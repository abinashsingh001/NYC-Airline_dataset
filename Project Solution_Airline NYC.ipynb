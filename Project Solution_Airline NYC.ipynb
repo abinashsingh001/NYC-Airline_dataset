{
 "cells": [
  {
   "cell_type": "markdown",
   "metadata": {},
   "source": [
    "<img height=\"60\" width=\"260\" src=\"http://www.nycaviation.com/newspage/wp-content/uploads/2016/09/IMG_0300-620x413.jpg\"></img>\n",
    "### <font color='maroon' size= 6 align=middle><b> \"NYC Airline DataSet Analysis\" </b></font>\n",
    "# This dataset contains information about all flights that departed from NYC (e.g. EWR, JFK and LGA) in 2013\n"
   ]
  },
  {
   "cell_type": "markdown",
   "metadata": {},
   "source": [
    "## <font color =\"crimson\" size=5><b>\"Agenda\"</b></font>\n",
    "\n",
    "1. [Reading the Datasets](#Datasets)<br>\n",
    "    -1.1 [Importing the Libraries for dataset Analysis](#import)<br>\n",
    "    -1.2 [Coverting the Time data and slicing it for better representation if required : Optional](#optional)<br>\n",
    "    -1.3 [Profiling the datasets](#profiling)<br><br>\n",
    "    \n",
    "2. [Business Question Identified](#Question)<br>\n",
    "    -2.1 [Delay Departure](#Delay)<br>\n",
    "     -2.1.1 [Which day have maximum number of flight delay- i.e. which day appear to worst in term of departure delay](#maxf)<br>\n",
    "     -2.1.2 [Monthwise Average delay departure information of flight from NYC to all destination](#mond)<br><br>\n",
    "       \n",
    "   -2.2 [Best Airport in term of time Departure in terms of %](#bestAir)<br>\n",
    "     -2.2.1 [Obtaining \"Origin\" where departure delay is less and \"Destination\" where arrival delay is less](#orig)<br><br>\n",
    "       \n",
    "   -2.3 [Aircraft Speed Analysis](#speedAnalysis)<br>\n",
    "     -2.3.1 [Finding out the top 5 fastest flight details from NYC](#fastf)<br><br>\n",
    "        \n",
    "   -2.4 [On time arrival % analysis](#ontimearr)<br>\n",
    "     -2.4.1 [Top 5 destination where flight arrives early than expected arrival time](#top5)<br><br>\n",
    "        \n",
    "   -2.5 [Maximum number of flights headed to some particular destination](#maxflight)<br>\n",
    "     -2.5.1 [Finding the unique flights flied from NYC i.e(from JFK, LGA and EWR) to all destination in 2013](uniq)<br>\n",
    "     -2.5.2 [The top 5 Spot destination flight from NYC on month basis count](stop5)<br>\n",
    "     -2.5.3 [To find, the total number of unique Airline  headed to 'ATL‘(found destination which max no of flight from NYC](uniqA)<br>\n",
    "     -2.5.4 [To find, the total number of unique flights  headed to 'ATL‘(found destination which max no of flight from NYC](uniqtotA)<br>\n",
    "   \n"
   ]
  },
  {
   "cell_type": "markdown",
   "metadata": {},
   "source": [
    "#  1. Reading the Datasets <a id='Datasets'>"
   ]
  },
  {
   "cell_type": "markdown",
   "metadata": {},
   "source": [
    "## 1.1 Importing the Libraries for dataset Analys<a id='import'>"
   ]
  },
  {
   "cell_type": "code",
   "execution_count": 27,
   "metadata": {},
   "outputs": [],
   "source": [
    "import numpy as np\n",
    "import pandas as pd\n",
    "import pandas_profiling as pds\n",
    "import matplotlib.pyplot as plt\n",
    "import seaborn as sn\n",
    "from bokeh.plotting import figure,show,output_notebook\n",
    "from matplotlib import style"
   ]
  },
  {
   "cell_type": "markdown",
   "metadata": {},
   "source": [
    "## 1.2 Coverting the Time data and slicing it for better representation if required : Optional <a id='optional'>"
   ]
  },
  {
   "cell_type": "code",
   "execution_count": 28,
   "metadata": {},
   "outputs": [],
   "source": [
    "def convert (number):\n",
    "        if ((len(str(number))>3)):\n",
    "            return str(number)[0:2] + str(number)[2:]\n",
    "        else:\n",
    "            return \"0\" + str(number)[:1]+str(number)[1:]"
   ]
  },
  {
   "cell_type": "markdown",
   "metadata": {},
   "source": [
    "## 1.3 Profiling the datasets <a id='profiling'>\n"
   ]
  },
  {
   "cell_type": "code",
   "execution_count": 31,
   "metadata": {},
   "outputs": [
    {
     "name": "stdout",
     "output_type": "stream",
     "text": [
      "The total number of rows and column in dataset after removing null value is (327346, 19)\n"
     ]
    }
   ],
   "source": [
    "flight_data=pd.read_csv(\"D:/BigDataProjects/DataScience/Upx/Python_Learning_Tracks/Project/ProjectDatasets/Project_1_NYC-Flight_data/project_1_NYC-Flightdata/flight_data.csv\")\n",
    "report= pds.ProfileReport(flight_data)\n",
    "report.to_file(\"D:/BigDataProjects/DataScience/Upx/Python_Learning_Tracks/Project/ProjectDatasets/Project_1_NYC-Flight_data/project_1_NYC-Flightdata/flight_data_pro.html\")\n",
    "dataset_f=pd.DataFrame(flight_data)\n",
    "dataset_f= dataset_f.dropna()\n",
    "print(\"The total number of rows and column in dataset after removing null value is\", dataset_f.shape)\n",
    "\n",
    "\n",
    "plt.rcParams['figure.figsize']=(8,6)\n",
    "plt.rcParams['font.size']=13"
   ]
  },
  {
   "cell_type": "markdown",
   "metadata": {},
   "source": [
    "# <font color ='0066CC'><b>2.Business Question Identified</b></font><a id='Question'>"
   ]
  },
  {
   "cell_type": "markdown",
   "metadata": {},
   "source": [
    "## <font color='green'><b> 2.1 Delay Departure</b></font><a id='Delay'>\n"
   ]
  },
  {
   "cell_type": "code",
   "execution_count": 32,
   "metadata": {},
   "outputs": [
    {
     "name": "stdout",
     "output_type": "stream",
     "text": [
      "    day  month  dep_delay\n",
      "86    8      3   83.64787\n"
     ]
    }
   ],
   "source": [
    "day_delay=dataset_f.groupby(['day','month'], as_index=False).agg({'dep_delay': 'mean'})\n",
    "day_delay_max=day_delay['dep_delay'].max()\n",
    "day_delay_info=day_delay[day_delay['dep_delay']==day_delay_max]\n",
    "print(day_delay_info)"
   ]
  },
  {
   "cell_type": "markdown",
   "metadata": {},
   "source": [
    "### 2.1.1 Which day have maximum number of flight delay- i.e. which day appear to worst in term of departure delay <a id='maxf'>\n"
   ]
  },
  {
   "cell_type": "code",
   "execution_count": 33,
   "metadata": {},
   "outputs": [
    {
     "name": "stdout",
     "output_type": "stream",
     "text": [
      "Day and month which have maximum number of flight delay\n",
      "      day  month  flight\n",
      "275   23     12     673\n"
     ]
    }
   ],
   "source": [
    "max_flightdealy_day=dataset_f[dataset_f['dep_delay'] > 0].groupby(['day','month'], as_index=False).agg({'flight': 'count'})\n",
    "max_flightdealy_info = max_flightdealy_day[max_flightdealy_day['flight'].max() == max_flightdealy_day['flight']]\n",
    "print(\"Day and month which have maximum number of flight delay\" '\\n' ,max_flightdealy_info)"
   ]
  },
  {
   "cell_type": "markdown",
   "metadata": {},
   "source": [
    "### 2.1.2 Monthwise Average delay departure information of flight from NYC to all destination <a id='mond'>\n"
   ]
  },
  {
   "cell_type": "code",
   "execution_count": 37,
   "metadata": {},
   "outputs": [
    {
     "name": "stderr",
     "output_type": "stream",
     "text": [
      "C:\\Users\\Mowgli\\Anaconda3\\lib\\site-packages\\seaborn\\categorical.py:3666: UserWarning: The `factorplot` function has been renamed to `catplot`. The original name will be removed in a future release. Please update your code. Note that the default `kind` in `factorplot` (`'point'`) has changed `'strip'` in `catplot`.\n",
      "  warnings.warn(msg)\n"
     ]
    },
    {
     "data": {
      "image/png": "[encoded data removed]",
      "text/plain": [
       "<Figure size 360x360 with 1 Axes>"
      ]
     },
     "metadata": {
      "needs_background": "light"
     },
     "output_type": "display_data"
    }
   ],
   "source": [
    "%matplotlib inline\n",
    "month_delayinfo = dataset_f.groupby(['month'], as_index=False).agg({'dep_delay': 'mean'})\n",
    "month_delayinfo['dep_delay']=np.round(month_delayinfo['dep_delay'],0)\n",
    "sn.factorplot(x='month', y='dep_delay', data=month_delayinfo, kind='bar')\n",
    "plt.savefig(\"D:/fig1\")\n",
    "plt.plot()\n",
    "plt.show()\n"
   ]
  },
  {
   "cell_type": "markdown",
   "metadata": {},
   "source": [
    "## <font color='green'><b>2.2 Best Airport in term of time Departure in terms of %</b></font><a id= 'bestair'>"
   ]
  },
  {
   "cell_type": "markdown",
   "metadata": {},
   "source": [
    "### 2.2.1 Obtaining \"Origin\" where departure delay is less and \"Destination\" where arrival delay is less<a id='orig'>"
   ]
  },
  {
   "cell_type": "code",
   "execution_count": 38,
   "metadata": {},
   "outputs": [
    {
     "data": {
      "image/png": "[encoded data removed]",
      "text/plain": [
       "<Figure size 360x360 with 1 Axes>"
      ]
     },
     "metadata": {
      "needs_background": "light"
     },
     "output_type": "display_data"
    }
   ],
   "source": [
    "airport_info_df=pd.DataFrame(dataset_f,columns=['day','month','dep_delay','arr_delay','carrier','origin','dest','flight'])\n",
    "airport_info1=airport_info_df[airport_info_df['dep_delay']<1]\n",
    "best_airport=airport_info1.sort_values(['dep_delay']).groupby(['origin']).agg({'dep_delay':'mean'})\n",
    "best_airport.plot(kind='bar', title =\"Best Airport in term of departure\",figsize=(5,5),legend=True, fontsize=12)\n",
    "plt.savefig(\"D:/fig2\")\n",
    "plt.show()\n",
    "plt.close()"
   ]
  },
  {
   "cell_type": "markdown",
   "metadata": {},
   "source": [
    "## <font color='green'><b>2.3 Aircraft Speed Analysis </b></font><a id= 'speedAnalysis'>"
   ]
  },
  {
   "cell_type": "markdown",
   "metadata": {},
   "source": [
    "### 2.3.1 Finding out the top 5 fastest flight details from NYC<a id='fastf'>"
   ]
  },
  {
   "cell_type": "code",
   "execution_count": 39,
   "metadata": {},
   "outputs": [
    {
     "data": {
      "image/png": "[encoded data removed]",
      "text/plain": [
       "<Figure size 434.5x360 with 1 Axes>"
      ]
     },
     "metadata": {
      "needs_background": "light"
     },
     "output_type": "display_data"
    },
    {
     "data": {
      "text/html": [
       "<div>\n",
       "<style scoped>\n",
       "    .dataframe tbody tr th:only-of-type {\n",
       "        vertical-align: middle;\n",
       "    }\n",
       "\n",
       "    .dataframe tbody tr th {\n",
       "        vertical-align: top;\n",
       "    }\n",
       "\n",
       "    .dataframe thead th {\n",
       "        text-align: right;\n",
       "    }\n",
       "</style>\n",
       "<table border=\"1\" class=\"dataframe\">\n",
       "  <thead>\n",
       "    <tr style=\"text-align: right;\">\n",
       "      <th></th>\n",
       "      <th>year</th>\n",
       "      <th>month</th>\n",
       "      <th>day</th>\n",
       "      <th>dep_time</th>\n",
       "      <th>sched_dep_time</th>\n",
       "      <th>dep_delay</th>\n",
       "      <th>arr_time</th>\n",
       "      <th>sched_arr_time</th>\n",
       "      <th>arr_delay</th>\n",
       "      <th>carrier</th>\n",
       "      <th>flight</th>\n",
       "      <th>tailnum</th>\n",
       "      <th>origin</th>\n",
       "      <th>dest</th>\n",
       "      <th>air_time</th>\n",
       "      <th>distance</th>\n",
       "      <th>hour</th>\n",
       "      <th>minute</th>\n",
       "      <th>time_hour</th>\n",
       "      <th>speed</th>\n",
       "    </tr>\n",
       "  </thead>\n",
       "  <tbody>\n",
       "    <tr>\n",
       "      <th>216447</th>\n",
       "      <td>2013</td>\n",
       "      <td>5</td>\n",
       "      <td>25</td>\n",
       "      <td>1709.0</td>\n",
       "      <td>1700</td>\n",
       "      <td>9.0</td>\n",
       "      <td>1923.0</td>\n",
       "      <td>1937</td>\n",
       "      <td>-14.0</td>\n",
       "      <td>DL</td>\n",
       "      <td>1499</td>\n",
       "      <td>N666DN</td>\n",
       "      <td>LGA</td>\n",
       "      <td>ATL</td>\n",
       "      <td>65.0</td>\n",
       "      <td>762</td>\n",
       "      <td>17</td>\n",
       "      <td>0</td>\n",
       "      <td>25-05-2013 17:00</td>\n",
       "      <td>703.4</td>\n",
       "    </tr>\n",
       "    <tr>\n",
       "      <th>251999</th>\n",
       "      <td>2013</td>\n",
       "      <td>7</td>\n",
       "      <td>2</td>\n",
       "      <td>1558.0</td>\n",
       "      <td>1513</td>\n",
       "      <td>45.0</td>\n",
       "      <td>1745.0</td>\n",
       "      <td>1719</td>\n",
       "      <td>26.0</td>\n",
       "      <td>EV</td>\n",
       "      <td>4667</td>\n",
       "      <td>N17196</td>\n",
       "      <td>EWR</td>\n",
       "      <td>MSP</td>\n",
       "      <td>93.0</td>\n",
       "      <td>1008</td>\n",
       "      <td>15</td>\n",
       "      <td>13</td>\n",
       "      <td>2/7/2013 15:00</td>\n",
       "      <td>650.3</td>\n",
       "    </tr>\n",
       "    <tr>\n",
       "      <th>205388</th>\n",
       "      <td>2013</td>\n",
       "      <td>5</td>\n",
       "      <td>13</td>\n",
       "      <td>2040.0</td>\n",
       "      <td>2025</td>\n",
       "      <td>15.0</td>\n",
       "      <td>2225.0</td>\n",
       "      <td>2226</td>\n",
       "      <td>-1.0</td>\n",
       "      <td>EV</td>\n",
       "      <td>4292</td>\n",
       "      <td>N14568</td>\n",
       "      <td>EWR</td>\n",
       "      <td>GSP</td>\n",
       "      <td>55.0</td>\n",
       "      <td>594</td>\n",
       "      <td>20</td>\n",
       "      <td>25</td>\n",
       "      <td>13-05-2013 20:00</td>\n",
       "      <td>648.0</td>\n",
       "    </tr>\n",
       "    <tr>\n",
       "      <th>157516</th>\n",
       "      <td>2013</td>\n",
       "      <td>3</td>\n",
       "      <td>23</td>\n",
       "      <td>1914.0</td>\n",
       "      <td>1910</td>\n",
       "      <td>4.0</td>\n",
       "      <td>2045.0</td>\n",
       "      <td>2043</td>\n",
       "      <td>2.0</td>\n",
       "      <td>EV</td>\n",
       "      <td>3805</td>\n",
       "      <td>N12567</td>\n",
       "      <td>EWR</td>\n",
       "      <td>BNA</td>\n",
       "      <td>70.0</td>\n",
       "      <td>748</td>\n",
       "      <td>19</td>\n",
       "      <td>10</td>\n",
       "      <td>23-03-2013 19:00</td>\n",
       "      <td>641.1</td>\n",
       "    </tr>\n",
       "    <tr>\n",
       "      <th>10223</th>\n",
       "      <td>2013</td>\n",
       "      <td>1</td>\n",
       "      <td>12</td>\n",
       "      <td>1559.0</td>\n",
       "      <td>1600</td>\n",
       "      <td>-1.0</td>\n",
       "      <td>1849.0</td>\n",
       "      <td>1917</td>\n",
       "      <td>-28.0</td>\n",
       "      <td>DL</td>\n",
       "      <td>1902</td>\n",
       "      <td>N956DL</td>\n",
       "      <td>LGA</td>\n",
       "      <td>PBI</td>\n",
       "      <td>105.0</td>\n",
       "      <td>1035</td>\n",
       "      <td>16</td>\n",
       "      <td>0</td>\n",
       "      <td>12/1/2013 16:00</td>\n",
       "      <td>591.4</td>\n",
       "    </tr>\n",
       "  </tbody>\n",
       "</table>\n",
       "</div>"
      ],
      "text/plain": [
       "        year  month  day  dep_time  sched_dep_time  dep_delay  arr_time  \\\n",
       "216447  2013      5   25    1709.0            1700        9.0    1923.0   \n",
       "251999  2013      7    2    1558.0            1513       45.0    1745.0   \n",
       "205388  2013      5   13    2040.0            2025       15.0    2225.0   \n",
       "157516  2013      3   23    1914.0            1910        4.0    2045.0   \n",
       "10223   2013      1   12    1559.0            1600       -1.0    1849.0   \n",
       "\n",
       "        sched_arr_time  arr_delay carrier  flight tailnum origin dest  \\\n",
       "216447            1937      -14.0      DL    1499  N666DN    LGA  ATL   \n",
       "251999            1719       26.0      EV    4667  N17196    EWR  MSP   \n",
       "205388            2226       -1.0      EV    4292  N14568    EWR  GSP   \n",
       "157516            2043        2.0      EV    3805  N12567    EWR  BNA   \n",
       "10223             1917      -28.0      DL    1902  N956DL    LGA  PBI   \n",
       "\n",
       "        air_time  distance  hour  minute         time_hour  speed  \n",
       "216447      65.0       762    17       0  25-05-2013 17:00  703.4  \n",
       "251999      93.0      1008    15      13    2/7/2013 15:00  650.3  \n",
       "205388      55.0       594    20      25  13-05-2013 20:00  648.0  \n",
       "157516      70.0       748    19      10  23-03-2013 19:00  641.1  \n",
       "10223      105.0      1035    16       0   12/1/2013 16:00  591.4  "
      ]
     },
     "execution_count": 39,
     "metadata": {},
     "output_type": "execute_result"
    }
   ],
   "source": [
    "%matplotlib inline\n",
    "\n",
    "dataset_f['speed']=dataset_f['distance']/(dataset_f['air_time']/60)\n",
    "fastest_flight_max=dataset_f.sort_values(['speed'], ascending=False)\n",
    "fastest_flight_max['speed']=np.round(fastest_flight_max['speed'],1)\n",
    "fastest_flight_max_top5=fastest_flight_max.head(5)\n",
    "sn.lmplot(x = 'distance', y='speed', data = fastest_flight_max_top5,fit_reg=False, hue=\"tailnum\")\n",
    "plt.savefig(\"D:/fig3\")\n",
    "plt.show()\n",
    "fastest_flight_max_top5"
   ]
  },
  {
   "cell_type": "markdown",
   "metadata": {},
   "source": [
    "## <font color='green'><b>2.4 On time arrival % analysis.\"</b></font><a id='ontimearr'>"
   ]
  },
  {
   "cell_type": "markdown",
   "metadata": {},
   "source": [
    "### 2.4.1 Top 5 destination where flight arrives early than expected arrival time<a id ='top5'>"
   ]
  },
  {
   "cell_type": "code",
   "execution_count": 40,
   "metadata": {},
   "outputs": [
    {
     "name": "stdout",
     "output_type": "stream",
     "text": [
      "The details of top 5 flight info which arrives on destination \n",
      "\n"
     ]
    },
    {
     "data": {
      "image/png": "[encoded data removed]",
      "text/plain": [
       "<Figure size 432x288 with 1 Axes>"
      ]
     },
     "metadata": {
      "needs_background": "light"
     },
     "output_type": "display_data"
    },
    {
     "name": "stderr",
     "output_type": "stream",
     "text": [
      "C:\\Users\\Mowgli\\Anaconda3\\lib\\site-packages\\seaborn\\categorical.py:3666: UserWarning: The `factorplot` function has been renamed to `catplot`. The original name will be removed in a future release. Please update your code. Note that the default `kind` in `factorplot` (`'point'`) has changed `'strip'` in `catplot`.\n",
      "  warnings.warn(msg)\n"
     ]
    },
    {
     "data": {
      "image/png": "[encoded data removed]",
      "text/plain": [
       "<Figure size 360x360 with 1 Axes>"
      ]
     },
     "metadata": {
      "needs_background": "light"
     },
     "output_type": "display_data"
    }
   ],
   "source": [
    "carrier_info=dataset_f['carrier'].unique()\n",
    "\n",
    "\n",
    "early_arrival=dataset_f[dataset_f['arr_delay']<=0]\n",
    "top5carrier_info=(early_arrival.sort_values(['arr_delay'], ascending=True)).head(5)\n",
    "top5carrier_info_details=pd.DataFrame(top5carrier_info, columns=['day','month','origin','dest','arr_delay','carrier','flight','tailnum','distance','speed'])\n",
    "print(\"The details of top 5 flight info which arrives on destination\",'\\n')\n",
    "\n",
    "plt.plot(top5carrier_info_details.dest,top5carrier_info_details.arr_delay,linestyle='--', color='red')\n",
    "plt.grid(True, color='k')\n",
    "plt.savefig(\"D:/fig4\")\n",
    "plt.show()\n",
    "\n",
    "carrier_arrival=early_arrival.sort_values(['arr_delay'], ascending=True).groupby(['month'],as_index=False).agg({'arr_delay':'mean'})\n",
    "sn.factorplot(x='month', y='arr_delay', data=carrier_arrival)\n",
    "plt.xticks(rotation=75)\n",
    "plt.grid(True, color='b')\n",
    "plt.legend\n",
    "plt.savefig(\"D:/fig5\")\n",
    "plt.show()\n"
   ]
  },
  {
   "cell_type": "markdown",
   "metadata": {},
   "source": [
    "## <font color='green'><b>2.5 Maximum number of flights headed to some particular destination\"</b></font><a id='maxflight'>"
   ]
  },
  {
   "cell_type": "markdown",
   "metadata": {},
   "source": [
    "### 2.5.1 Finding the unique flights flied from NYC i.e(from JFK, LGA and EWR) to all destination in 2013<a id='uniq'>"
   ]
  },
  {
   "cell_type": "code",
   "execution_count": 41,
   "metadata": {},
   "outputs": [
    {
     "name": "stdout",
     "output_type": "stream",
     "text": [
      "The total number unique destination flight  from NYC is:: 104\n",
      "\n",
      "\n",
      "The following are the total count of destination flight from the following origion\n",
      " origin\n",
      "EWR    117127\n",
      "JFK    109079\n",
      "LGA    101140\n",
      "Name: dest, dtype: int64\n"
     ]
    }
   ],
   "source": [
    "%matplotlib inline\n",
    "NYC_allflight=dataset_f['dest'].unique()\n",
    "\n",
    "\n",
    "NYC_allflightcount=len(NYC_allflight)\n",
    "print(\"The total number unique destination flight  from NYC is\"+ \"::\" ,NYC_allflightcount)\n",
    "print('\\n')\n",
    "\n",
    "originwise_flight=dataset_f.groupby(['origin'])[\"dest\"].count()\n",
    "print(\"The following are the total count of destination flight from the following origion\\n\",originwise_flight)\n"
   ]
  },
  {
   "cell_type": "markdown",
   "metadata": {},
   "source": [
    "### 2.5.2 The top 5 Spot destination flight from NYC on month basis count<a id='spot5'>"
   ]
  },
  {
   "cell_type": "code",
   "execution_count": 42,
   "metadata": {},
   "outputs": [
    {
     "name": "stdout",
     "output_type": "stream",
     "text": [
      "The top 5 Spot destination flight from NYC is\n"
     ]
    },
    {
     "data": {
      "image/png": "[encoded data removed]",
      "text/plain": [
       "<Figure size 432x288 with 1 Axes>"
      ]
     },
     "metadata": {
      "needs_background": "light"
     },
     "output_type": "display_data"
    },
    {
     "data": {
      "text/html": [
       "<div>\n",
       "<style scoped>\n",
       "    .dataframe tbody tr th:only-of-type {\n",
       "        vertical-align: middle;\n",
       "    }\n",
       "\n",
       "    .dataframe tbody tr th {\n",
       "        vertical-align: top;\n",
       "    }\n",
       "\n",
       "    .dataframe thead th {\n",
       "        text-align: right;\n",
       "    }\n",
       "</style>\n",
       "<table border=\"1\" class=\"dataframe\">\n",
       "  <thead>\n",
       "    <tr style=\"text-align: right;\">\n",
       "      <th></th>\n",
       "      <th>dest</th>\n",
       "      <th>month</th>\n",
       "    </tr>\n",
       "  </thead>\n",
       "  <tbody>\n",
       "    <tr>\n",
       "      <th>4</th>\n",
       "      <td>ATL</td>\n",
       "      <td>16837</td>\n",
       "    </tr>\n",
       "    <tr>\n",
       "      <th>68</th>\n",
       "      <td>ORD</td>\n",
       "      <td>16566</td>\n",
       "    </tr>\n",
       "    <tr>\n",
       "      <th>49</th>\n",
       "      <td>LAX</td>\n",
       "      <td>16026</td>\n",
       "    </tr>\n",
       "    <tr>\n",
       "      <th>11</th>\n",
       "      <td>BOS</td>\n",
       "      <td>15022</td>\n",
       "    </tr>\n",
       "    <tr>\n",
       "      <th>53</th>\n",
       "      <td>MCO</td>\n",
       "      <td>13967</td>\n",
       "    </tr>\n",
       "  </tbody>\n",
       "</table>\n",
       "</div>"
      ],
      "text/plain": [
       "   dest  month\n",
       "4   ATL  16837\n",
       "68  ORD  16566\n",
       "49  LAX  16026\n",
       "11  BOS  15022\n",
       "53  MCO  13967"
      ]
     },
     "execution_count": 42,
     "metadata": {},
     "output_type": "execute_result"
    }
   ],
   "source": [
    "NYC_allflight1=dataset_f.groupby(['dest'],as_index=False).agg({'month':'count'})\n",
    "maximun_count_flight=NYC_allflight1.sort_values(['month'], ascending=False)\n",
    "print(\"The top 5 Spot destination flight from NYC is\")\n",
    "top_destination_flight = maximun_count_flight.head(5)\n",
    "plt.scatter(top_destination_flight.dest,top_destination_flight.month, color='red')\n",
    "plt.legend\n",
    "plt.savefig(\"D:/fig6\")\n",
    "plt.grid(True, color='y')\n",
    "plt.show()\n",
    "top_destination_flight\n"
   ]
  },
  {
   "cell_type": "markdown",
   "metadata": {},
   "source": [
    "### 2.5.3 To find, the total number of unique Airline  headed to 'ATL‘(found destination which max no of flight from NYC<a id='uniqA'>"
   ]
  },
  {
   "cell_type": "code",
   "execution_count": 43,
   "metadata": {},
   "outputs": [
    {
     "name": "stdout",
     "output_type": "stream",
     "text": [
      "The total number of Airline  headed to 'ATL' from NYC is 7\n",
      "\n",
      "\n"
     ]
    }
   ],
   "source": [
    "ATL_dest=dataset_f[dataset_f['dest']=='ATL']\n",
    "Airline_count=(ATL_dest['carrier']).unique()\n",
    "print(\"The total number of Airline  headed to 'ATL' from NYC is\",len(Airline_count))\n",
    "print('\\n')\n"
   ]
  },
  {
   "cell_type": "markdown",
   "metadata": {},
   "source": [
    "### 2.5.4 To find, the total number of unique flights  headed to 'ATL‘(found destination which max no of flight from NYC<a id='uniqtotA'>\n"
   ]
  },
  {
   "cell_type": "code",
   "execution_count": 44,
   "metadata": {},
   "outputs": [
    {
     "name": "stdout",
     "output_type": "stream",
     "text": [
      "The total unique flight  headed to 'ATL' from NYC is 1178\n",
      "\n",
      "\n"
     ]
    }
   ],
   "source": [
    "flight_ATL_dest_count=ATL_dest['tailnum'].unique()\n",
    "print(\"The total unique flight  headed to 'ATL' from NYC is\",len(flight_ATL_dest_count))\n",
    "print('\\n')"
   ]
  },
  {
   "cell_type": "markdown",
   "metadata": {},
   "source": [
    "  ### print(\"                     **********************************Thank You**************************************************                \")"
   ]
  },
  {
   "cell_type": "code",
   "execution_count": null,
   "metadata": {},
   "outputs": [],
   "source": []
  }
 ],
 "metadata": {
  "kernelspec": {
   "display_name": "Python 3",
   "language": "python",
   "name": "python3"
  },
  "language_info": {
   "codemirror_mode": {
    "name": "ipython",
    "version": 3
   },
   "file_extension": ".py",
   "mimetype": "text/x-python",
   "name": "python",
   "nbconvert_exporter": "python",
   "pygments_lexer": "ipython3",
   "version": "3.6.6"
  }
 },
 "nbformat": 4,
 "nbformat_minor": 2
}
